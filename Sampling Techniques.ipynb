{
 "cells": [
  {
   "cell_type": "code",
   "execution_count": 3,
   "id": "038c568c",
   "metadata": {},
   "outputs": [],
   "source": [
    "#Simple random sampling example\n",
    "import random\n",
    "\n",
    "#Create a population(list of elements)\n",
    "population=['A','B','C','D','E','F','G']"
   ]
  },
  {
   "cell_type": "code",
   "execution_count": 2,
   "id": "778fa967",
   "metadata": {},
   "outputs": [],
   "source": [
    "#define sample size\n",
    "sample_size = 4"
   ]
  },
  {
   "cell_type": "code",
   "execution_count": 10,
   "id": "a80a9c71",
   "metadata": {},
   "outputs": [],
   "source": [
    "#defile simple random sampling\n",
    "sample = random.sample(population, sample_size)"
   ]
  },
  {
   "cell_type": "code",
   "execution_count": 5,
   "id": "ab1514b5",
   "metadata": {},
   "outputs": [
    {
     "name": "stdout",
     "output_type": "stream",
     "text": [
      "population: ['A', 'B', 'C', 'D', 'E', 'F', 'G']\n"
     ]
    }
   ],
   "source": [
    "#display the sample\n",
    "print(\"population:\",population)"
   ]
  },
  {
   "cell_type": "code",
   "execution_count": 13,
   "id": "1dbc5268",
   "metadata": {},
   "outputs": [
    {
     "name": "stdout",
     "output_type": "stream",
     "text": [
      "population: ['A', 'B', 'C', 'D', 'E', 'F', 'G']\n",
      "Random Sample of size4: ['A', 'F', 'B', 'C']\n"
     ]
    }
   ],
   "source": [
    "print(\"population:\",population)\n",
    "sample = random.sample(population, sample_size)\n",
    "print(f\"Random Sample of size{sample_size}:\", sample)"
   ]
  },
  {
   "cell_type": "code",
   "execution_count": null,
   "id": "0d88b00c",
   "metadata": {},
   "outputs": [],
   "source": []
  },
  {
   "cell_type": "code",
   "execution_count": null,
   "id": "8b029e84",
   "metadata": {},
   "outputs": [],
   "source": []
  }
 ],
 "metadata": {
  "kernelspec": {
   "display_name": "Python 3 (ipykernel)",
   "language": "python",
   "name": "python3"
  },
  "language_info": {
   "codemirror_mode": {
    "name": "ipython",
    "version": 3
   },
   "file_extension": ".py",
   "mimetype": "text/x-python",
   "name": "python",
   "nbconvert_exporter": "python",
   "pygments_lexer": "ipython3",
   "version": "3.9.7"
  }
 },
 "nbformat": 4,
 "nbformat_minor": 5
}
