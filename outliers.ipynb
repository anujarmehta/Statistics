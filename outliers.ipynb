import pandas as pd
import numpy as np

# create a variable to type of file to read csv file
df = pd.read_csv(r"datasets/ted_data.csv")
df
