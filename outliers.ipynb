import pandas as pd
import numpy as np

# create a variable to type of file to read csv file
df = pd.read_csv(r"ted_data.csv")
df
